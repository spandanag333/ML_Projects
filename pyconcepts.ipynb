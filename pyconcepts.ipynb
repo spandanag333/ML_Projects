{
  "nbformat": 4,
  "nbformat_minor": 0,
  "metadata": {
    "colab": {
      "name": "pyconcepts.ipynb",
      "provenance": [],
      "authorship_tag": "ABX9TyPiojYN76UurPBXlvcjJ9YH",
      "include_colab_link": true
    },
    "kernelspec": {
      "name": "python3",
      "display_name": "Python 3"
    },
    "language_info": {
      "name": "python"
    }
  },
  "cells": [
    {
      "cell_type": "markdown",
      "metadata": {
        "id": "view-in-github",
        "colab_type": "text"
      },
      "source": [
        "<a href=\"https://colab.research.google.com/github/spandanag333/ML_Projects/blob/main/pyconcepts.ipynb\" target=\"_parent\"><img src=\"https://colab.research.google.com/assets/colab-badge.svg\" alt=\"Open In Colab\"/></a>"
      ]
    },
    {
      "cell_type": "code",
      "metadata": {
        "id": "88OktVV3zVB_",
        "colab": {
          "base_uri": "https://localhost:8080/"
        },
        "outputId": "8c76c7b5-45d3-4c00-d9ec-c2722b32f031"
      },
      "source": [
        "color_list=['red','green','white','purple','pink','marron']\n",
        "for i in color_list:\n",
        "   print(i)\n",
        "\n"
      ],
      "execution_count": null,
      "outputs": [
        {
          "output_type": "stream",
          "text": [
            "red\n",
            "green\n",
            "white\n",
            "purple\n",
            "pink\n",
            "marron\n"
          ],
          "name": "stdout"
        }
      ]
    },
    {
      "cell_type": "code",
      "metadata": {
        "colab": {
          "base_uri": "https://localhost:8080/"
        },
        "id": "w2xUSQv1HuOX",
        "outputId": "004bd86f-4ccd-431d-8a1c-c877c9778f73"
      },
      "source": [
        "fr_string=\"Goeduhub technologies\"\n",
        "\n",
        "for i in fr_string:\n",
        "\n",
        "    print(i)\n",
        "\n"
      ],
      "execution_count": null,
      "outputs": [
        {
          "output_type": "stream",
          "text": [
            "G\n",
            "o\n",
            "e\n",
            "d\n",
            "u\n",
            "h\n",
            "u\n",
            "b\n",
            " \n",
            "t\n",
            "e\n",
            "c\n",
            "h\n",
            "n\n",
            "o\n",
            "l\n",
            "o\n",
            "g\n",
            "i\n",
            "e\n",
            "s\n"
          ],
          "name": "stdout"
        }
      ]
    },
    {
      "cell_type": "code",
      "metadata": {
        "colab": {
          "base_uri": "https://localhost:8080/"
        },
        "id": "1J4AkxoNH0Ym",
        "outputId": "c1e24f86-5115-4d9a-f1a6-6ed2db5e9566"
      },
      "source": [
        "fr_dict={1:'q',2:'w',3:'e',4:\"r\"}\n",
        "\n",
        "for i in fr_dict:\n",
        "\n",
        "    print(i)\n",
        "\n",
        "\n"
      ],
      "execution_count": null,
      "outputs": [
        {
          "output_type": "stream",
          "text": [
            "1\n",
            "2\n",
            "3\n",
            "4\n"
          ],
          "name": "stdout"
        }
      ]
    },
    {
      "cell_type": "code",
      "metadata": {
        "colab": {
          "base_uri": "https://localhost:8080/"
        },
        "id": "TmMz5jN0H7yP",
        "outputId": "4b6650a3-d528-4bc9-d17e-47cc37d1249d"
      },
      "source": [
        "Num=[1,2,3,4,5,6,7,8,9,10]\n",
        "\n",
        "Sum=0\n",
        "\n",
        "for i in Num:\n",
        "\n",
        "    Sum=Sum+i\n",
        "\n",
        "print(Sum)"
      ],
      "execution_count": null,
      "outputs": [
        {
          "output_type": "stream",
          "text": [
            "55\n"
          ],
          "name": "stdout"
        }
      ]
    },
    {
      "cell_type": "code",
      "metadata": {
        "colab": {
          "base_uri": "https://localhost:8080/"
        },
        "id": "_vjv-XztIR_l",
        "outputId": "cafe786a-3629-4878-b262-9d6b58e3f8df"
      },
      "source": [
        "color_list=['red','green','white','purple','pink','marron']\n",
        "for i in range(len(color_list)):\n",
        "  print(color_list[i])"
      ],
      "execution_count": null,
      "outputs": [
        {
          "output_type": "stream",
          "text": [
            "red\n",
            "green\n",
            "white\n",
            "purple\n",
            "pink\n",
            "marron\n"
          ],
          "name": "stdout"
        }
      ]
    },
    {
      "cell_type": "code",
      "metadata": {
        "colab": {
          "base_uri": "https://localhost:8080/"
        },
        "id": "UuldhSUYIjA4",
        "outputId": "fee732e8-0cb3-43df-9f2d-266a0c3ebcf6"
      },
      "source": [
        "s=0\n",
        "for i in range(1,14,3):\n",
        "    print(i)\n",
        "    s=s+i\n",
        "print(\"sum is =\",s)"
      ],
      "execution_count": null,
      "outputs": [
        {
          "output_type": "stream",
          "text": [
            "1\n",
            "4\n",
            "7\n",
            "10\n",
            "13\n",
            "sum is = 35\n"
          ],
          "name": "stdout"
        }
      ]
    },
    {
      "cell_type": "code",
      "metadata": {
        "colab": {
          "base_uri": "https://localhost:8080/"
        },
        "id": "1aLPVhk_Irfg",
        "outputId": "a88bc97f-3bf1-4a1a-9601-c52d4f4326ac"
      },
      "source": [
        "for i in range(5):\n",
        "\n",
        "    print(i)\n",
        "\n",
        "else:\n",
        "\n",
        "    print(\"Finally finished!\")"
      ],
      "execution_count": null,
      "outputs": [
        {
          "output_type": "stream",
          "text": [
            "0\n",
            "1\n",
            "2\n",
            "3\n",
            "4\n",
            "Finally finished!\n"
          ],
          "name": "stdout"
        }
      ]
    },
    {
      "cell_type": "code",
      "metadata": {
        "colab": {
          "base_uri": "https://localhost:8080/"
        },
        "id": "aATX0gwCI0iw",
        "outputId": "7a490f78-976a-48c7-b57c-7ef454c2e4cc"
      },
      "source": [
        "color_list=['red','green','white']\n",
        "for i in range(2):\n",
        "    for j in color_list:\n",
        "           print(i,j)"
      ],
      "execution_count": null,
      "outputs": [
        {
          "output_type": "stream",
          "text": [
            "0 red\n",
            "0 green\n",
            "0 white\n",
            "1 red\n",
            "1 green\n",
            "1 white\n"
          ],
          "name": "stdout"
        }
      ]
    },
    {
      "cell_type": "code",
      "metadata": {
        "colab": {
          "base_uri": "https://localhost:8080/"
        },
        "id": "hnqpsQwrKMjY",
        "outputId": "0b478ce9-7595-43db-e11e-9d1336322ce5"
      },
      "source": [
        "n=int(input(\"A Number =\"))\n",
        "i=0\n",
        "while i <=n:\n",
        "    i=i+1\n",
        "    s=i+n\n",
        "print(s)"
      ],
      "execution_count": null,
      "outputs": [
        {
          "output_type": "stream",
          "text": [
            "A Number =5\n",
            "11\n"
          ],
          "name": "stdout"
        }
      ]
    },
    {
      "cell_type": "code",
      "metadata": {
        "colab": {
          "base_uri": "https://localhost:8080/"
        },
        "id": "Kk_HpmGhK0Ps",
        "outputId": "507fc163-ee66-4d11-d5e9-a5d59c51b3f7"
      },
      "source": [
        "n=int(input(\"A Number =\"))\n",
        "b=5\n",
        "i=0\n",
        "while i <=n:\n",
        "    i=i+1\n",
        "    if i>b:\n",
        "        break\n",
        "print(i)"
      ],
      "execution_count": null,
      "outputs": [
        {
          "output_type": "stream",
          "text": [
            "A Number =6\n",
            "6\n"
          ],
          "name": "stdout"
        }
      ]
    },
    {
      "cell_type": "code",
      "metadata": {
        "colab": {
          "base_uri": "https://localhost:8080/"
        },
        "id": "o5f6HgMxLuIg",
        "outputId": "cc180a8e-170f-4dfb-bf95-c73cad6a95f8"
      },
      "source": [
        "num=int(input(\"Num value=\"))                    \n",
        "while num > 0:              \n",
        "    num = num -1\n",
        "    if num == 3:\n",
        "        continue\n",
        "        print(num)\n",
        "    print ('Number=', num)"
      ],
      "execution_count": null,
      "outputs": [
        {
          "output_type": "stream",
          "text": [
            "Num value=5\n",
            "Number= 4\n",
            "Number= 2\n",
            "Number= 1\n",
            "Number= 0\n"
          ],
          "name": "stdout"
        }
      ]
    },
    {
      "cell_type": "code",
      "metadata": {
        "colab": {
          "base_uri": "https://localhost:8080/"
        },
        "id": "INbJRAJEMfpo",
        "outputId": "8831742a-80d7-45e4-a8dd-6f745a94889d"
      },
      "source": [
        "List =[1,5,6,8,77,9,6,2.,7]\n",
        "\n",
        "for i in List:\n",
        "\n",
        "    if i==77:\n",
        "\n",
        "        break\n",
        "\n",
        "    print(i)"
      ],
      "execution_count": null,
      "outputs": [
        {
          "output_type": "stream",
          "text": [
            "1\n",
            "5\n",
            "6\n",
            "8\n"
          ],
          "name": "stdout"
        }
      ]
    },
    {
      "cell_type": "code",
      "metadata": {
        "colab": {
          "base_uri": "https://localhost:8080/"
        },
        "id": "nnOIxr8CM4aY",
        "outputId": "645366d8-74e7-4bfd-b448-bc923fc143dc"
      },
      "source": [
        "List =[1,5,6,8,77,9,6,2,7] \n",
        "for i in List: \n",
        "  if i==77: \n",
        "    continue \n",
        "print(i)"
      ],
      "execution_count": null,
      "outputs": [
        {
          "output_type": "stream",
          "text": [
            "7\n"
          ],
          "name": "stdout"
        }
      ]
    },
    {
      "cell_type": "code",
      "metadata": {
        "colab": {
          "base_uri": "https://localhost:8080/"
        },
        "id": "__A8CwcNNhOn",
        "outputId": "73a11c5f-4415-48d9-f87e-92e9a90f7532"
      },
      "source": [
        "numbers = [ 1, 2, 4, 3, 6, 5, 7,8, 9,10,11,12,13,14,15,16 ]\n",
        "\n",
        "for number in numbers:\n",
        "\n",
        "    if number % 2 == 0:\n",
        "\n",
        "        pass\n",
        "\n",
        "    else:\n",
        "\n",
        "        print (number)"
      ],
      "execution_count": null,
      "outputs": [
        {
          "output_type": "stream",
          "text": [
            "1\n",
            "3\n",
            "5\n",
            "7\n",
            "9\n",
            "11\n",
            "13\n",
            "15\n"
          ],
          "name": "stdout"
        }
      ]
    },
    {
      "cell_type": "code",
      "metadata": {
        "colab": {
          "base_uri": "https://localhost:8080/"
        },
        "id": "DaTQCJPFN-Un",
        "outputId": "40f410a3-f119-494d-ed11-84061dfd7dce"
      },
      "source": [
        "string=\"Goeduhub Technologies\" \n",
        "str = 'Goeduhub Technologies 12345'\n",
        "\n",
        "print('str = ', str)\n",
        "print('str[0] = ', str[0])\n",
        "print('str[-1] = ', str[-1])\n",
        "str1 = 'Python'\n",
        "\n",
        "str2 ='String'\n",
        "\n",
        "# concatenating strings\n",
        "\n",
        "print('str1 + str2 = ', str1 + str2)\n",
        "print('str1 * 2 =', str1 * 2)\n"
      ],
      "execution_count": null,
      "outputs": [
        {
          "output_type": "stream",
          "text": [
            "str =  Goeduhub Technologies 12345\n",
            "str[0] =  G\n",
            "str[-1] =  5\n",
            "str1 + str2 =  PythonString\n",
            "str1 * 2 = PythonPython\n"
          ],
          "name": "stdout"
        }
      ]
    },
    {
      "cell_type": "code",
      "metadata": {
        "colab": {
          "base_uri": "https://localhost:8080/"
        },
        "id": "iInwdV1pPaan",
        "outputId": "bd497c98-5e16-404c-a5f7-372acc013412"
      },
      "source": [
        "Str1 = \"Python Programming\"\n",
        "\n",
        "# Deleting a element of string  \n",
        "\n",
        "del Str1\n",
        "\n",
        "# Creating new string\n",
        "\n",
        "Str1= \"Creating new string\"\n",
        "\n",
        "print(Str1)"
      ],
      "execution_count": null,
      "outputs": [
        {
          "output_type": "stream",
          "text": [
            "Creating new string\n"
          ],
          "name": "stdout"
        }
      ]
    },
    {
      "cell_type": "code",
      "metadata": {
        "id": "56M7agQMPmuZ",
        "colab": {
          "base_uri": "https://localhost:8080/"
        },
        "outputId": "9542aef9-cf87-4a16-f3a2-89b4b181479c"
      },
      "source": [
        "Str1 = \"{} {} \".format('python', 'programming') \n",
        "\n",
        "print(Str1) \n",
        "\n",
        "# Positional Formatting \n",
        "\n",
        "Str2= \"{1} {0} \".format('python','programming') \n",
        "\n",
        "print(Str2) \n",
        "\n",
        "# Keyword Formatting \n",
        "\n",
        "Str1 = \"{g} {t} {j}\".format(g = 'Goeduhub', t= 'Technologies', j = 'Jaipur') \n",
        "\n",
        "print(Str1) "
      ],
      "execution_count": null,
      "outputs": [
        {
          "output_type": "stream",
          "text": [
            "python programming \n",
            "programming python \n",
            "Goeduhub Technologies Jaipur\n"
          ],
          "name": "stdout"
        }
      ]
    },
    {
      "cell_type": "code",
      "metadata": {
        "colab": {
          "base_uri": "https://localhost:8080/"
        },
        "id": "UQHLPu6iUxR_",
        "outputId": "d349bb8a-97a4-47c7-d5ef-53ad13478082"
      },
      "source": [
        "a = [1, 2, 3, 4, 5]\n",
        "a.append(6)\n",
        "\n",
        "a.append(7)\n",
        "\n",
        "a.append(7)\n",
        "a\n"
      ],
      "execution_count": null,
      "outputs": [
        {
          "output_type": "execute_result",
          "data": {
            "text/plain": [
              "[1, 2, 3, 4, 5, 6, 7, 7]"
            ]
          },
          "metadata": {
            "tags": []
          },
          "execution_count": 1
        }
      ]
    },
    {
      "cell_type": "code",
      "metadata": {
        "id": "cTzkdFYkUxXm"
      },
      "source": [
        "b = [8, 9]\n",
        "a.append(b)\n"
      ],
      "execution_count": null,
      "outputs": []
    },
    {
      "cell_type": "code",
      "metadata": {
        "colab": {
          "base_uri": "https://localhost:8080/"
        },
        "id": "B1nu2qV6Uxau",
        "outputId": "65d17357-14dd-43d8-9104-e13048d6747b"
      },
      "source": [
        "a.extend(b)\n",
        "a"
      ],
      "execution_count": null,
      "outputs": [
        {
          "output_type": "execute_result",
          "data": {
            "text/plain": [
              "[1, 2, 3, 4, 5, 6, 7, 7, [8, 9], 8, 9, 8, 9]"
            ]
          },
          "metadata": {
            "tags": []
          },
          "execution_count": 4
        }
      ]
    },
    {
      "cell_type": "code",
      "metadata": {
        "colab": {
          "base_uri": "https://localhost:8080/"
        },
        "id": "986_EmUIUxdX",
        "outputId": "57e5a863-f7fb-42da-c6ae-2ce0ea760820"
      },
      "source": [
        "a.extend(range(3))\n",
        "a"
      ],
      "execution_count": null,
      "outputs": [
        {
          "output_type": "execute_result",
          "data": {
            "text/plain": [
              "[1, 2, 3, 4, 5, 6, 7, 7, [8, 9], 8, 9, 8, 9, 0, 1, 2]"
            ]
          },
          "metadata": {
            "tags": []
          },
          "execution_count": 5
        }
      ]
    },
    {
      "cell_type": "code",
      "metadata": {
        "colab": {
          "base_uri": "https://localhost:8080/"
        },
        "id": "x-n_2lWfUxfy",
        "outputId": "88caa156-a0a8-424c-a40b-2a9fe6d0a9f5"
      },
      "source": [
        "a.index(7)\n",
        "a"
      ],
      "execution_count": null,
      "outputs": [
        {
          "output_type": "execute_result",
          "data": {
            "text/plain": [
              "[1, 2, 3, 4, 5, 6, 7, 7, [8, 9], 8, 9, 8, 9, 0, 1, 2]"
            ]
          },
          "metadata": {
            "tags": []
          },
          "execution_count": 6
        }
      ]
    },
    {
      "cell_type": "code",
      "metadata": {
        "colab": {
          "base_uri": "https://localhost:8080/"
        },
        "id": "s3AZR8rvVctx",
        "outputId": "e99cee71-b239-4d48-a0b7-404b2a52efaa"
      },
      "source": [
        "lst = ['a', 'b', 'c', 'd', 'e']   \n",
        "lst[2:4]\n"
      ],
      "execution_count": null,
      "outputs": [
        {
          "output_type": "execute_result",
          "data": {
            "text/plain": [
              "['c', 'd']"
            ]
          },
          "metadata": {
            "tags": []
          },
          "execution_count": 9
        }
      ]
    },
    {
      "cell_type": "code",
      "metadata": {
        "colab": {
          "base_uri": "https://localhost:8080/"
        },
        "id": "mzMbFG0rVyVR",
        "outputId": "d4baef8d-4aba-4828-c54a-0e4389446d15"
      },
      "source": [
        "lst[2:]"
      ],
      "execution_count": null,
      "outputs": [
        {
          "output_type": "execute_result",
          "data": {
            "text/plain": [
              "['c', 'd', 'e']"
            ]
          },
          "metadata": {
            "tags": []
          },
          "execution_count": 10
        }
      ]
    },
    {
      "cell_type": "code",
      "metadata": {
        "colab": {
          "base_uri": "https://localhost:8080/"
        },
        "id": "JVg9vBhlV0qp",
        "outputId": "cc84c3fb-2c4a-4a83-bc12-aae21a84d38f"
      },
      "source": [
        "lst[:4]"
      ],
      "execution_count": null,
      "outputs": [
        {
          "output_type": "execute_result",
          "data": {
            "text/plain": [
              "['a', 'b', 'c', 'd']"
            ]
          },
          "metadata": {
            "tags": []
          },
          "execution_count": 11
        }
      ]
    },
    {
      "cell_type": "code",
      "metadata": {
        "colab": {
          "base_uri": "https://localhost:8080/"
        },
        "id": "NZVe7bLAV3CS",
        "outputId": "453a7340-2458-419a-9913-5a00cc935474"
      },
      "source": [
        "lst[::2]"
      ],
      "execution_count": null,
      "outputs": [
        {
          "output_type": "execute_result",
          "data": {
            "text/plain": [
              "['a', 'c', 'e']"
            ]
          },
          "metadata": {
            "tags": []
          },
          "execution_count": 12
        }
      ]
    },
    {
      "cell_type": "code",
      "metadata": {
        "colab": {
          "base_uri": "https://localhost:8080/"
        },
        "id": "FMokDsW8V6Yi",
        "outputId": "87108a4c-6481-4090-c3b3-48c4cfc26d83"
      },
      "source": [
        "lst[::3]"
      ],
      "execution_count": null,
      "outputs": [
        {
          "output_type": "execute_result",
          "data": {
            "text/plain": [
              "['a', 'd']"
            ]
          },
          "metadata": {
            "tags": []
          },
          "execution_count": 13
        }
      ]
    },
    {
      "cell_type": "code",
      "metadata": {
        "colab": {
          "base_uri": "https://localhost:8080/"
        },
        "id": "i6SFY9EjbLF7",
        "outputId": "9f3194a5-e637-4131-c49b-6f5297a1dd0f"
      },
      "source": [
        "x,y = 3,4\n",
        "\n",
        "print (x,y)\n",
        "\n",
        "a,b,c = 10,11,12\n",
        "\n",
        "print(a,b,c)\n",
        "\n",
        "print(b)\n",
        "\n",
        "tuple=('a','b','c','d','e','f')\n",
        "\n",
        "print(tuple)"
      ],
      "execution_count": null,
      "outputs": [
        {
          "output_type": "stream",
          "text": [
            "3 4\n",
            "10 11 12\n",
            "11\n",
            "('a', 'b', 'c', 'd', 'e', 'f')\n"
          ],
          "name": "stdout"
        }
      ]
    },
    {
      "cell_type": "code",
      "metadata": {
        "colab": {
          "base_uri": "https://localhost:8080/"
        },
        "id": "QycG_GNxbLIh",
        "outputId": "c277a2da-0442-4659-e77d-a98896874eab"
      },
      "source": [
        "tup = ('a','e','i','o','u') #Form a tuple with name tup\n",
        "\n",
        "print(\"tup is\", tup)"
      ],
      "execution_count": null,
      "outputs": [
        {
          "output_type": "stream",
          "text": [
            "tup is ('a', 'e', 'i', 'o', 'u')\n"
          ],
          "name": "stdout"
        }
      ]
    },
    {
      "cell_type": "code",
      "metadata": {
        "colab": {
          "base_uri": "https://localhost:8080/"
        },
        "id": "LtyDgsuybLLR",
        "outputId": "c025d9f4-0210-4973-eb2d-5d0e1b38c863"
      },
      "source": [
        "print(tup[0])\n",
        "\n",
        "print(tup[1])\n",
        "\n",
        "print(tup[-1])\n",
        "\n",
        "print(tup[-2])\n",
        "\n",
        "print(tup[1:3])\n",
        "\n",
        "print(tup[:3])"
      ],
      "execution_count": null,
      "outputs": [
        {
          "output_type": "stream",
          "text": [
            "a\n",
            "e\n",
            "u\n",
            "o\n",
            "('e', 'i')\n",
            "('a', 'e', 'i')\n"
          ],
          "name": "stdout"
        }
      ]
    },
    {
      "cell_type": "code",
      "metadata": {
        "colab": {
          "base_uri": "https://localhost:8080/"
        },
        "id": "RnCqqgKcbLN6",
        "outputId": "ade209cb-e5da-4b67-fada-741ea8222ec5"
      },
      "source": [
        "t1=(1,2,3,4)\n",
        "\n",
        "t2=('a','e','i','o','u') \n",
        "\n",
        "T=t1+t2 # add two tuples\n",
        "\n",
        "print(T)\n",
        "\n",
        "len(t2)"
      ],
      "execution_count": null,
      "outputs": [
        {
          "output_type": "stream",
          "text": [
            "(1, 2, 3, 4, 'a', 'e', 'i', 'o', 'u')\n"
          ],
          "name": "stdout"
        },
        {
          "output_type": "execute_result",
          "data": {
            "text/plain": [
              "5"
            ]
          },
          "metadata": {
            "tags": []
          },
          "execution_count": 17
        }
      ]
    },
    {
      "cell_type": "code",
      "metadata": {
        "colab": {
          "base_uri": "https://localhost:8080/"
        },
        "id": "hWG-SVADcGFS",
        "outputId": "94cf3c8b-88ee-4466-cb66-4d2422be3b2d"
      },
      "source": [
        "import numpy as np\n",
        "\n",
        "a = np.array([1, 2, 3])   # Create a rank 1 array\n",
        "\n",
        "print(type(a))\n",
        "\n",
        "print(a)\n",
        "print(a[0], a[1], a[2])   \n",
        "\n",
        "#Change an element of array \n",
        "\n",
        "a[0]=5\n",
        "\n",
        "print(a)"
      ],
      "execution_count": null,
      "outputs": [
        {
          "output_type": "stream",
          "text": [
            "<class 'numpy.ndarray'>\n",
            "[1 2 3]\n",
            "1 2 3\n",
            "[5 2 3]\n"
          ],
          "name": "stdout"
        }
      ]
    },
    {
      "cell_type": "code",
      "metadata": {
        "colab": {
          "base_uri": "https://localhost:8080/"
        },
        "id": "MGLHkySocMis",
        "outputId": "51a9bd4e-f890-41cd-eb8e-1784c33ec1d3"
      },
      "source": [
        "\n",
        "\n",
        "b = np.array([[1,2,3],[4,5,6]])   \n",
        "\n",
        "print(b)\n",
        "\n",
        "print(b.shape)"
      ],
      "execution_count": null,
      "outputs": [
        {
          "output_type": "stream",
          "text": [
            "[[1 2 3]\n",
            " [4 5 6]]\n",
            "(2, 3)\n"
          ],
          "name": "stdout"
        }
      ]
    },
    {
      "cell_type": "code",
      "metadata": {
        "colab": {
          "base_uri": "https://localhost:8080/"
        },
        "id": "CRZpBmaccaB4",
        "outputId": "1d6a1124-a9cc-47d1-ae88-defcd3ec6004"
      },
      "source": [
        "import numpy as np\n",
        "\n",
        "# Create the following rank 2 array with shape (3, 4)\n",
        "\n",
        "a = np.array([[1,2,3,4], [5,6,7,8], [9,10,11,12]])\n",
        "\n",
        "print(a)\n",
        "\n",
        "#Slicing in array\n",
        "\n",
        "print(a.shape)\n",
        "\n",
        "b = a[1:, 2:]\n",
        "\n",
        "print(b)\n",
        "\n"
      ],
      "execution_count": null,
      "outputs": [
        {
          "output_type": "stream",
          "text": [
            "[[ 1  2  3  4]\n",
            " [ 5  6  7  8]\n",
            " [ 9 10 11 12]]\n",
            "(3, 4)\n",
            "[[ 7  8]\n",
            " [11 12]]\n"
          ],
          "name": "stdout"
        }
      ]
    },
    {
      "cell_type": "code",
      "metadata": {
        "id": "pJgSAxuUcaNa",
        "colab": {
          "base_uri": "https://localhost:8080/"
        },
        "outputId": "df907113-72b5-4a5b-8ba8-0336be4eca51"
      },
      "source": [
        "row_r1 = a[1, :]    # Rank 1 view of the second row of a\n",
        "\n",
        "#array \"a \"  is already created \n",
        "\n",
        "row_r2 = a[1:2, :]  # Rank 2 view of the second row of a\n",
        "\n",
        "print(row_r1)\n",
        "\n",
        "print(row_r1.shape)  \n",
        "\n",
        "print(row_r2)\n",
        "\n",
        "print(row_r2.shape)"
      ],
      "execution_count": null,
      "outputs": [
        {
          "output_type": "stream",
          "text": [
            "[5 6 7 8]\n",
            "(4,)\n",
            "[[5 6 7 8]]\n",
            "(1, 4)\n"
          ],
          "name": "stdout"
        }
      ]
    },
    {
      "cell_type": "code",
      "metadata": {
        "colab": {
          "base_uri": "https://localhost:8080/"
        },
        "id": "d5JCWT3M66f1",
        "outputId": "01399ff3-f55f-4302-e006-8e7ff832c87c"
      },
      "source": [
        "col_r1 = a[:, 1]\n",
        "\n",
        "col_r2 = a[:, 1:2]\n",
        "\n",
        "print(col_r1, col_r1.shape)  \n",
        "\n",
        "print(col_r2, col_r2.shape)  "
      ],
      "execution_count": null,
      "outputs": [
        {
          "output_type": "stream",
          "text": [
            "[ 2  6 10] (3,)\n",
            "[[ 2]\n",
            " [ 6]\n",
            " [10]] (3, 1)\n"
          ],
          "name": "stdout"
        }
      ]
    },
    {
      "cell_type": "code",
      "metadata": {
        "colab": {
          "base_uri": "https://localhost:8080/"
        },
        "id": "3MSYORxL66jv",
        "outputId": "7eca80c5-1f13-4b0a-dda8-d2fd89835781"
      },
      "source": [
        "a = np.array([[1,2], [3, 4], [5, 6]])\n",
        "\n",
        "print(a[[0, 1, 2], [0, 1, 0]])\n",
        "\n",
        "print(np.array([a[0, 0], a[1, 1], a[2, 0]])) "
      ],
      "execution_count": null,
      "outputs": [
        {
          "output_type": "stream",
          "text": [
            "[1 4 5]\n",
            "[1 4 5]\n"
          ],
          "name": "stdout"
        }
      ]
    },
    {
      "cell_type": "code",
      "metadata": {
        "colab": {
          "base_uri": "https://localhost:8080/"
        },
        "id": "Ve8zf4gb66m1",
        "outputId": "379ae8f9-b4e8-4b86-f5fe-5a8d2c175a6d"
      },
      "source": [
        "x = np.array([[1,2],[3,4]])\n",
        "y = np.array([[5,6],[7,8]])\n",
        "print(x)\n",
        "\n",
        "print(y)\n",
        "\n",
        "print(x + y)"
      ],
      "execution_count": null,
      "outputs": [
        {
          "output_type": "stream",
          "text": [
            "[[1 2]\n",
            " [3 4]]\n",
            "[[5 6]\n",
            " [7 8]]\n",
            "[[ 6  8]\n",
            " [10 12]]\n"
          ],
          "name": "stdout"
        }
      ]
    },
    {
      "cell_type": "code",
      "metadata": {
        "colab": {
          "base_uri": "https://localhost:8080/"
        },
        "id": "ndCb_Zvd8U8U",
        "outputId": "29743c5e-9902-4063-f838-82bb87141429"
      },
      "source": [
        "print(x - y)\n",
        "\n",
        "print(x * y)\n",
        "\n",
        "print(x / y)\n",
        "\n",
        "print(np.sqrt(x))\n",
        "\n"
      ],
      "execution_count": null,
      "outputs": [
        {
          "output_type": "stream",
          "text": [
            "[[-4 -4]\n",
            " [-4 -4]]\n",
            "[[ 5 12]\n",
            " [21 32]]\n",
            "[[0.2        0.33333333]\n",
            " [0.42857143 0.5       ]]\n",
            "[[1.         1.41421356]\n",
            " [1.73205081 2.        ]]\n"
          ],
          "name": "stdout"
        }
      ]
    },
    {
      "cell_type": "code",
      "metadata": {
        "colab": {
          "base_uri": "https://localhost:8080/"
        },
        "id": "1TNILTNk8b5h",
        "outputId": "d94f4a15-e97f-40f3-be53-6e4704693f42"
      },
      "source": [
        "x = np.array([[1,2],[3,4],[8,9]])\n",
        "\n",
        "print(np.sum(x))  \n",
        "\n",
        "print(np.sum(x, axis=0))  \n",
        "\n",
        "print(np.sum(x, axis=1))  \n",
        "print(x.T)"
      ],
      "execution_count": null,
      "outputs": [
        {
          "output_type": "stream",
          "text": [
            "27\n",
            "[12 15]\n",
            "[ 3  7 17]\n",
            "[[1 3 8]\n",
            " [2 4 9]]\n"
          ],
          "name": "stdout"
        }
      ]
    },
    {
      "cell_type": "code",
      "metadata": {
        "colab": {
          "base_uri": "https://localhost:8080/"
        },
        "id": "lO9T-U-J86kx",
        "outputId": "e532635f-33a9-4888-f5c0-a80280f52cf1"
      },
      "source": [
        "import pandas as pd\n",
        "import numpy as np\n",
        "# simple array\n",
        "data = np.array(['g','o','e','d','u','h','u','b'])\n",
        "data\n"
      ],
      "execution_count": null,
      "outputs": [
        {
          "output_type": "execute_result",
          "data": {
            "text/plain": [
              "array(['g', 'o', 'e', 'd', 'u', 'h', 'u', 'b'], dtype='<U1')"
            ]
          },
          "metadata": {
            "tags": []
          },
          "execution_count": 18
        }
      ]
    },
    {
      "cell_type": "code",
      "metadata": {
        "colab": {
          "base_uri": "https://localhost:8080/"
        },
        "id": "0wI5HOWx86oB",
        "outputId": "b60dbdf0-2cd0-48fc-e3c9-b5ca4fca7d77"
      },
      "source": [
        "ser = pd.Series(data)\n",
        "print(ser)"
      ],
      "execution_count": null,
      "outputs": [
        {
          "output_type": "stream",
          "text": [
            "0    g\n",
            "1    o\n",
            "2    e\n",
            "3    d\n",
            "4    u\n",
            "5    h\n",
            "6    u\n",
            "7    b\n",
            "dtype: object\n"
          ],
          "name": "stdout"
        }
      ]
    },
    {
      "cell_type": "code",
      "metadata": {
        "colab": {
          "base_uri": "https://localhost:8080/"
        },
        "id": "sZtqd3DN86tx",
        "outputId": "54195743-27e3-441a-aedf-3284cbcf0a66"
      },
      "source": [
        "import pandas as pd\n",
        "import numpy as np\n",
        "s1 = pd.Series( np.random.random(5) , index=['a', 'b', 'c', 'd', 'e'] )\n",
        "print(s1)"
      ],
      "execution_count": null,
      "outputs": [
        {
          "output_type": "stream",
          "text": [
            "a    0.191484\n",
            "b    0.845018\n",
            "c    0.769535\n",
            "d    0.496452\n",
            "e    0.891557\n",
            "dtype: float64\n"
          ],
          "name": "stdout"
        }
      ]
    },
    {
      "cell_type": "code",
      "metadata": {
        "colab": {
          "base_uri": "https://localhost:8080/"
        },
        "id": "Lvf8tV0M-As7",
        "outputId": "124acc94-e057-48df-c5fd-7effbb3bc0a8"
      },
      "source": [
        "data = {'pi': 3.1415, 'e': 2.71828}  # dictionary\n",
        "\n",
        "print(data)\n",
        "\n",
        "s3 = pd.Series ( data )\n",
        "\n",
        "print(s3)"
      ],
      "execution_count": null,
      "outputs": [
        {
          "output_type": "stream",
          "text": [
            "{'pi': 3.1415, 'e': 2.71828}\n",
            "pi    3.14150\n",
            "e     2.71828\n",
            "dtype: float64\n"
          ],
          "name": "stdout"
        }
      ]
    },
    {
      "cell_type": "code",
      "metadata": {
        "colab": {
          "base_uri": "https://localhost:8080/"
        },
        "id": "vA4v_11d-bXz",
        "outputId": "9be1a02a-e1be-423a-f811-99d1faf76b08"
      },
      "source": [
        "import pandas as pd\n",
        "\n",
        "import numpy as np\n",
        "\n",
        "s1 = pd.Series( np.random.random(5) )\n",
        "\n",
        "print(s1)\n",
        "\n",
        "# Many ways to \"slice\" Pandas series (series have zero-based index by default):\n",
        "\n",
        "s1[3]  # returns 4th element\n",
        "\n",
        "s1[:2] #First 2 elements\n",
        "\n",
        "print( s1[ [2,1,0]])\n",
        "\n",
        "# View index values\n",
        "\n",
        "print(s1.index)"
      ],
      "execution_count": null,
      "outputs": [
        {
          "output_type": "stream",
          "text": [
            "0    0.326171\n",
            "1    0.594260\n",
            "2    0.007559\n",
            "3    0.241663\n",
            "4    0.203906\n",
            "dtype: float64\n",
            "2    0.007559\n",
            "1    0.594260\n",
            "0    0.326171\n",
            "dtype: float64\n",
            "RangeIndex(start=0, stop=5, step=1)\n"
          ],
          "name": "stdout"
        }
      ]
    },
    {
      "cell_type": "code",
      "metadata": {
        "colab": {
          "base_uri": "https://localhost:8080/"
        },
        "id": "_0etIV34-bav",
        "outputId": "b724e03a-3a9e-43ed-a038-d5cb91c5638f"
      },
      "source": [
        "print(\"Median:\" , s1.median())\n",
        "\n",
        "# numpy functions can be used on series as usual:\n",
        "\n",
        "s1[s1 > s1.median()]\n",
        "s1.values"
      ],
      "execution_count": null,
      "outputs": [
        {
          "output_type": "stream",
          "text": [
            "Median: 0.24166280906166016\n"
          ],
          "name": "stdout"
        },
        {
          "output_type": "execute_result",
          "data": {
            "text/plain": [
              "0    0.326171\n",
              "1    0.594260\n",
              "dtype: float64"
            ]
          },
          "metadata": {
            "tags": []
          },
          "execution_count": 24
        }
      ]
    },
    {
      "cell_type": "code",
      "metadata": {
        "colab": {
          "base_uri": "https://localhost:8080/"
        },
        "id": "_h7oLjfX-bh1",
        "outputId": "37c4a6f2-8151-4106-9751-d0fec11560e2"
      },
      "source": [
        "s5 = pd.Series (range(6))\n",
        "print(s5)\n",
        "print(s5[:-1])\n",
        "print(s5[1:])\n",
        "s5[1:] + s5[:-1]"
      ],
      "execution_count": null,
      "outputs": [
        {
          "output_type": "stream",
          "text": [
            "0    0\n",
            "1    1\n",
            "2    2\n",
            "3    3\n",
            "4    4\n",
            "5    5\n",
            "dtype: int64\n",
            "0    0\n",
            "1    1\n",
            "2    2\n",
            "3    3\n",
            "4    4\n",
            "dtype: int64\n",
            "1    1\n",
            "2    2\n",
            "3    3\n",
            "4    4\n",
            "5    5\n",
            "dtype: int64\n"
          ],
          "name": "stdout"
        },
        {
          "output_type": "execute_result",
          "data": {
            "text/plain": [
              "0    NaN\n",
              "1    2.0\n",
              "2    4.0\n",
              "3    6.0\n",
              "4    8.0\n",
              "5    NaN\n",
              "dtype: float64"
            ]
          },
          "metadata": {
            "tags": []
          },
          "execution_count": 25
        }
      ]
    },
    {
      "cell_type": "code",
      "metadata": {
        "colab": {
          "base_uri": "https://localhost:8080/"
        },
        "id": "RcYtRYeYAcIF",
        "outputId": "4edd8866-e76c-447d-f1e1-738a098f5855"
      },
      "source": [
        "mys = pd.Series( np.random.randn(5))\n",
        "print(mys)\n",
        "print(mys.empty)\n",
        "print(mys.head(2))\n",
        "print(mys.tail(2))\n",
        "print(mys.values)\n",
        "print(mys.dtype)"
      ],
      "execution_count": null,
      "outputs": [
        {
          "output_type": "stream",
          "text": [
            "0   -1.188129\n",
            "1    0.392936\n",
            "2    0.017280\n",
            "3   -1.487972\n",
            "4    0.821986\n",
            "dtype: float64\n",
            "False\n",
            "0   -1.188129\n",
            "1    0.392936\n",
            "dtype: float64\n",
            "3   -1.487972\n",
            "4    0.821986\n",
            "dtype: float64\n",
            "[-1.18812907  0.39293635  0.01727964 -1.48797236  0.82198584]\n",
            "float64\n"
          ],
          "name": "stdout"
        }
      ]
    },
    {
      "cell_type": "code",
      "metadata": {
        "id": "LCypiAhLB_N2"
      },
      "source": [
        ""
      ],
      "execution_count": null,
      "outputs": []
    },
    {
      "cell_type": "code",
      "metadata": {
        "id": "DIUqi5ZYB_RO"
      },
      "source": [
        ""
      ],
      "execution_count": null,
      "outputs": []
    },
    {
      "cell_type": "code",
      "metadata": {
        "id": "mqzoMfKEB_U9"
      },
      "source": [
        ""
      ],
      "execution_count": null,
      "outputs": []
    },
    {
      "cell_type": "code",
      "metadata": {
        "id": "sj-C-UobB_YF"
      },
      "source": [
        ""
      ],
      "execution_count": null,
      "outputs": []
    },
    {
      "cell_type": "code",
      "metadata": {
        "id": "FMjea2R3B_bI"
      },
      "source": [
        ""
      ],
      "execution_count": null,
      "outputs": []
    }
  ]
}